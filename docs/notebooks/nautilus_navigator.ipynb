{
 "cells": [
  {
   "cell_type": "markdown",
   "metadata": {},
   "source": [
    "# NAUTILUS Navigator example\n",
    "\n",
    "This example goes through the basic functionalities of the NAUTILUS Navigator method.\n",
    "\n",
    "We will consider a simple 2D Pareto front which we will define next alongside the method itself. Both objectives are to be minimized.\n",
    "\n",
    "Because of the nature of navigation based interactive optimization methods, the idea of NAUTILUS Navigator is best demonstrated using some graphical user interface. One such interface can be found [online](https://dash.misitano.xyz)."
   ]
  },
  {
   "cell_type": "code",
   "execution_count": 1,
   "metadata": {
    "scrolled": true
   },
   "outputs": [],
   "source": [
    "import numpy as np \n",
    "from desdeo_mcdm.interactive.NautilusNavigator import NautilusNavigator\n",
    "\n",
    "# half of a parabola to act as a Pareto front\n",
    "f1 = np.linspace(1, 100, 50)\n",
    "f2 = f1[::-1] ** 2\n",
    "\n",
    "front = np.stack((f1, f2)).T\n",
    "ideal = np.min(front, axis=0)\n",
    "nadir = np.max(front, axis=0)\n",
    "\n",
    "method = NautilusNavigator((front), ideal, nadir)"
   ]
  },
  {
   "cell_type": "markdown",
   "metadata": {},
   "source": [
    "To start, we can invoke the `start` method."
   ]
  },
  {
   "cell_type": "code",
   "execution_count": 2,
   "metadata": {},
   "outputs": [
    {
     "name": "stdout",
     "output_type": "stream",
     "text": [
      "<desdeo_mcdm.interactive.NautilusNavigator.NautilusNavigatorRequest object at 0x7fca70bdfac0>\n",
      "dict_keys(['message', 'ideal', 'nadir', 'reachable_lb', 'reachable_ub', 'user_bounds', 'reachable_idx', 'step_number', 'steps_remaining', 'distance', 'allowed_speeds', 'current_speed', 'navigation_point'])\n"
     ]
    }
   ],
   "source": [
    "req_first = method.start()\n",
    "\n",
    "print(req_first)\n",
    "print(req_first.content.keys())"
   ]
  },
  {
   "cell_type": "markdown",
   "metadata": {},
   "source": [
    "The returned object is a NautilusNavigatorRequest. The keys should give an idea of what the contents of the request are. We will explain most of them in this example.\n",
    "\n",
    "At the moment, the `nadir`, `reachable_lb` and `reachable_ub` are most interesting to us. Navigation starts from the nadir and will proceed towards the Pareto optimal front enclosed between the limits defined in `reachable_lb` and `reachable_ub`.\n",
    "\n",
    "To interact with the method, we must fill out the `response` member of `req`. Let's see the contents of the message in `req` next."
   ]
  },
  {
   "cell_type": "code",
   "execution_count": 3,
   "metadata": {},
   "outputs": [
    {
     "name": "stdout",
     "output_type": "stream",
     "text": [
      "Please supply aspirations levels for each objective between the upper and lower bounds as `reference_point`. Specify a speed between 1-5 as `speed`. If going to a previous step is desired, please set `go_to_previous` to True, otherwise it should be False. Bounds for one or more objectives may also be specified as 'user_bounds'; when navigating,the value of the objectives present in the navigation points will not exceed the valuesspecified in 'user_bounds'.Lastly, if stopping is desired, `stop` should be True, otherwise it should be set to False.\n"
     ]
    }
   ],
   "source": [
    "print(req_first.content[\"message\"])"
   ]
  },
  {
   "cell_type": "markdown",
   "metadata": {},
   "source": [
    "We should define the required values and set them as keys of a dictionary. Before that, it is useful to see the bounds to know the currently feasible objective values."
   ]
  },
  {
   "cell_type": "code",
   "execution_count": 4,
   "metadata": {},
   "outputs": [
    {
     "name": "stdout",
     "output_type": "stream",
     "text": [
      "[1. 1.]\n",
      "[  100. 10000.]\n"
     ]
    }
   ],
   "source": [
    "print(req_first.content[\"reachable_lb\"])\n",
    "print(req_first.content[\"reachable_ub\"])"
   ]
  },
  {
   "cell_type": "code",
   "execution_count": 7,
   "metadata": {},
   "outputs": [],
   "source": [
    "reference_point = np.array([50, 6000])\n",
    "go_to_previous = False\n",
    "stop = False\n",
    "speed = 1\n",
    "\n",
    "response = dict(reference_point=reference_point, go_to_previous=False, stop=False, speed=1, user_bounds=[None, None])"
   ]
  },
  {
   "cell_type": "markdown",
   "metadata": {},
   "source": [
    "`go_to_previous` should be set to `False` unless we desire going to a previous point. `stop` should be `True` if we wish to stop, otherwise it should be `False`. `speed` is the speed of the navigation. It is not used internally in the method. To continue, we call `iterate` with suppliying the `req` object with a defined `response` attribute. We should get a new request as a return value."
   ]
  },
  {
   "cell_type": "code",
   "execution_count": 8,
   "metadata": {},
   "outputs": [
    {
     "name": "stdout",
     "output_type": "stream",
     "text": [
      "[3.02040816 9.12286547]\n",
      "[  100. 10000.]\n"
     ]
    }
   ],
   "source": [
    "req_first.response = response\n",
    "req_snd = method.iterate(req_first)\n",
    "\n",
    "print(req_snd.content[\"reachable_lb\"])\n",
    "print(req_snd.content[\"reachable_ub\"])"
   ]
  },
  {
   "cell_type": "markdown",
   "metadata": {},
   "source": [
    "We see that the bounds have narrowed down as they should.\n",
    "\n",
    "In reality, `iterate` should be called multiple times in succession with the same `response` contents. We can do this in a loop until the 30th step is computed, for example. NB: Steps are internally zero-index based."
   ]
  },
  {
   "cell_type": "code",
   "execution_count": 9,
   "metadata": {},
   "outputs": [
    {
     "name": "stdout",
     "output_type": "stream",
     "text": [
      "[ 11.10204082 449.61307788]\n",
      "[  81.81632653 8081.64306539]\n",
      "30\n"
     ]
    }
   ],
   "source": [
    "previous_requests = [req_first, req_snd]\n",
    "req = req_snd\n",
    "while method._step_number < 30:\n",
    "    req.response = response\n",
    "    req = method.iterate(req)\n",
    "\n",
    "    previous_requests.append(req)\n",
    "\n",
    "print(req.content[\"reachable_lb\"])\n",
    "print(req.content[\"reachable_ub\"])\n",
    "print(req.content[\"step_number\"])"
   ]
  },
  {
   "cell_type": "markdown",
   "metadata": {},
   "source": [
    "The region of reachable Pareto optimal solutions has narrowed down. Suppose now we wish to return to a previous step and change our preferences. Let's say, step 14."
   ]
  },
  {
   "cell_type": "code",
   "execution_count": 10,
   "metadata": {},
   "outputs": [
    {
     "name": "stdout",
     "output_type": "stream",
     "text": [
      "[  5.04081633 123.25531029]\n",
      "[  91.91836735 9208.16493128]\n",
      "14\n"
     ]
    }
   ],
   "source": [
    "# fetch the 14th step saved previously\n",
    "req_14 = previous_requests[13]\n",
    "print(req_14.content[\"reachable_lb\"])\n",
    "print(req_14.content[\"reachable_ub\"])\n",
    "print(req_14.content[\"step_number\"])\n",
    "\n",
    "req_14.response[\"go_to_previous\"] = True\n",
    "req_14.response[\"reference_point\"] = np.array([50, 5000])\n",
    "new_response = req_14.response"
   ]
  },
  {
   "cell_type": "markdown",
   "metadata": {},
   "source": [
    "When going to a previous point, the method assumes that the state the method was in during that point is fully defined in the request object given to it when calling `iterate` with `go_to_previous` being `True`. This is why we saved the request previously in a list."
   ]
  },
  {
   "cell_type": "code",
   "execution_count": 11,
   "metadata": {},
   "outputs": [
    {
     "name": "stdout",
     "output_type": "stream",
     "text": [
      "Old 30th step\n",
      "[ 11.10204082 449.61307788]\n",
      "[  81.81632653 8081.64306539]\n",
      "30\n",
      "New 30th step\n",
      "[ 11.10204082 368.01332778]\n",
      "[  81.81632653 8081.64306539]\n",
      "30\n"
     ]
    }
   ],
   "source": [
    "req_14_new = method.iterate(req_14)\n",
    "req = req_14_new\n",
    "\n",
    "# remember to unser go_to_previous!\n",
    "new_response[\"go_to_previous\"] = False\n",
    "\n",
    "# continue iterating for 16 steps\n",
    "while method._step_number < 30:\n",
    "    req.response = new_response\n",
    "    req = method.iterate(req)\n",
    "\n",
    "print(\"Old 30th step\")\n",
    "print(previous_requests[29].content[\"reachable_lb\"])\n",
    "print(previous_requests[29].content[\"reachable_ub\"])\n",
    "print(previous_requests[29].content[\"step_number\"])\n",
    "\n",
    "print(\"New 30th step\")\n",
    "print(req.content[\"reachable_lb\"])\n",
    "print(req.content[\"reachable_ub\"])\n",
    "print(req.content[\"step_number\"])"
   ]
  },
  {
   "cell_type": "markdown",
   "metadata": {},
   "source": [
    "We can see a difference in the limits when we changed the preference point.\n",
    "\n",
    "To find the final solution, we can iterate till the end."
   ]
  },
  {
   "cell_type": "code",
   "execution_count": 12,
   "metadata": {},
   "outputs": [
    {
     "name": "stdout",
     "output_type": "stream",
     "text": [
      "19\n"
     ]
    }
   ],
   "source": [
    "while method._step_number < 100:\n",
    "    req.response = new_response\n",
    "    req = method.iterate(req)\n",
    "\n",
    "print(req.content[\"reachable_idx\"])"
   ]
  },
  {
   "cell_type": "markdown",
   "metadata": {},
   "source": [
    "When finished navigating, the method will return the index of the reached solution based on the supplied Pareto front. It is assumed that if decision variables also exist for the problem, they are stored elsewhere. The final index returned can then be used to find the corresponding decision variables to the found solution in objective space."
   ]
  }
 ],
 "metadata": {
  "kernelspec": {
   "display_name": "mcdm_sep",
   "language": "python",
   "name": "mcdm_sep"
  },
  "language_info": {
   "codemirror_mode": {
    "name": "ipython",
    "version": 3
   },
   "file_extension": ".py",
   "mimetype": "text/x-python",
   "name": "python",
   "nbconvert_exporter": "python",
   "pygments_lexer": "ipython3",
   "version": "3.9.10"
  }
 },
 "nbformat": 4,
 "nbformat_minor": 4
}
